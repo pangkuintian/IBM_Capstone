{
 "cells": [
  {
   "cell_type": "markdown",
   "metadata": {},
   "source": [
    "# Introduction"
   ]
  },
  {
   "cell_type": "markdown",
   "metadata": {},
   "source": [
    "Which city in the UK should a tourist visit to have the best cafe-hopping trip? Best cafe-hopping experience would require a high density of cafe in a city. Hence, this project aims to cafe's location in the major UK cities and recommend the best city for cafe-hopping. The analysis presented in this project will be of great interest of tourists who are looking for the best city in the UK for cafe-hopping experience."
   ]
  },
  {
   "cell_type": "markdown",
   "metadata": {},
   "source": [
    "# Data"
   ]
  },
  {
   "cell_type": "markdown",
   "metadata": {},
   "source": [
    "Data of cafe locations in 5 major UK cities will be collected from FourSquare API. London, Cambridge, Oxford, Edinburgh, and Manchester will be analysed."
   ]
  },
  {
   "cell_type": "markdown",
   "metadata": {},
   "source": [
    "# Methodology"
   ]
  },
  {
   "cell_type": "markdown",
   "metadata": {},
   "source": [
    "The total number of cafe in London, Cambridge, Oxford, Edinburgh, and Manchester is extracted from FourSquare. Mean coordinate of these cafe in each city will be calculated. Mean distance of those cafe from the mean coordinate is calculated to evaluate if the locations of cafe are highly densed. "
   ]
  },
  {
   "cell_type": "markdown",
   "metadata": {},
   "source": [
    "# Result"
   ]
  },
  {
   "cell_type": "markdown",
   "metadata": {},
   "source": [
    "The total number of cafe in London, Edinburgh, Manchester, Oxford, and Cambridge is 332, 223, 165, 105, and 67(arranged in ascending order). The mean distance of cafe from mean coordinates in London, Edinburgh, Manchester, Oxford, and Cambridge is 0.0403, 0.0213, 0.0414, 0.0195, and 0.01717.\n"
   ]
  },
  {
   "cell_type": "markdown",
   "metadata": {},
   "source": [
    "# Discussion"
   ]
  },
  {
   "cell_type": "markdown",
   "metadata": {},
   "source": [
    "London has the highest number of cafe in the city. It would be recommended to visit London to have greatest access to most number of cafe in the country. However, cafe location in Cambridge appears to be denser than the other cities. Albeit the lowest number of cafe, Cambridge is highly recommended for tourists who have limited amount of time to explore cafe in a city due to the highly densed location of cafe in the city (practically speaking, it is impossible to visit hundreds of cafe in a single trip). Tourists are recommended to book accomdation around 'Parker's piece' in Camrbidge as this location is the mean coordinate of all cafe locations. "
   ]
  },
  {
   "cell_type": "markdown",
   "metadata": {},
   "source": [
    "# Conclusion"
   ]
  },
  {
   "cell_type": "markdown",
   "metadata": {},
   "source": [
    "Cambridge is the best city for cafe-hopping tour for tourists."
   ]
  },
  {
   "cell_type": "markdown",
   "metadata": {},
   "source": []
  }
 ],
 "metadata": {
  "kernelspec": {
   "display_name": "Python 3",
   "language": "python",
   "name": "python3"
  },
  "language_info": {
   "codemirror_mode": {
    "name": "ipython",
    "version": 3
   },
   "file_extension": ".py",
   "mimetype": "text/x-python",
   "name": "python",
   "nbconvert_exporter": "python",
   "pygments_lexer": "ipython3",
   "version": "3.7.3"
  }
 },
 "nbformat": 4,
 "nbformat_minor": 2
}
